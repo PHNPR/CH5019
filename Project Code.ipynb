{
 "cells": [
  {
   "cell_type": "markdown",
   "metadata": {},
   "source": [
    "1 . Rake library vadali .\n",
    "2 . Spellings check cheyyali , ekkuva tappulu unte marks taggelaga .\n",
    "3 . files tisesi string inputs tiskovali .\n",
    "4 . 21st kalla entha aithe antha ."
   ]
  },
  {
   "cell_type": "code",
   "execution_count": null,
   "metadata": {},
   "outputs": [],
   "source": [
    "import sys\n",
    "import math\n",
    "import string"
   ]
  },
  {
   "cell_type": "code",
   "execution_count": null,
   "metadata": {},
   "outputs": [],
   "source": [
    "def filereader(filename):\n",
    "    try:\n",
    "        with open(filename , 'r') as file :\n",
    "            data = file.read()\n",
    "        print(data)\n",
    "        return data\n",
    "\n",
    "    except IOError:\n",
    "        print('File cannot be opened or Input cannot be read.')\n",
    "        sys.exit()"
   ]
  },
  {
   "cell_type": "code",
   "execution_count": null,
   "metadata": {},
   "outputs": [],
   "source": [
    "table = str.maketrans(string.punctuation + string.ascii_uppercase , \" \" * len(string.punctuation) + string.ascii_lowercase) "
   ]
  },
  {
   "cell_type": "code",
   "execution_count": null,
   "metadata": {},
   "outputs": [],
   "source": [
    "def wordlist(data):\n",
    "    data = data.translate(table)\n",
    "    wordlist = data.split()\n",
    "    return wordlist"
   ]
  },
  {
   "cell_type": "code",
   "execution_count": null,
   "metadata": {},
   "outputs": [],
   "source": [
    "def wordfrequency(wordlist):\n",
    "    dic = {}\n",
    "    for i in wordlist :\n",
    "        if i in dic :   \n",
    "            dic[i] = dic[i] + 1\n",
    "        else :\n",
    "            dic[i] = 1\n",
    "    return dic"
   ]
  },
  {
   "cell_type": "code",
   "execution_count": null,
   "metadata": {},
   "outputs": [],
   "source": [
    "def wordmapping(filename):\n",
    "    line_list = filereader(filename)\n",
    "    word_list = wordlist(line_list)\n",
    "    frequency = wordfrequency(word_list)\n",
    "    return frequency"
   ]
  },
  {
   "cell_type": "code",
   "execution_count": null,
   "metadata": {},
   "outputs": [],
   "source": [
    "def dotproduct(doc1 , doc2):\n",
    "    result = 0 \n",
    "    for key in doc1 :\n",
    "        if key in doc2 :\n",
    "            result = result + doc1[key] * doc2[key]\n",
    "    return result"
   ]
  },
  {
   "cell_type": "code",
   "execution_count": null,
   "metadata": {},
   "outputs": [],
   "source": [
    "def angle(doc1 , doc2):\n",
    "    numerator = dotproduct(doc1,doc2)\n",
    "    denominator = math.sqrt( dotproduct(doc1,doc1) * dotproduct(doc2,doc2) )\n",
    "    angle = math.acos(numerator/denominator)\n",
    "    return angle "
   ]
  },
  {
   "cell_type": "code",
   "execution_count": null,
   "metadata": {},
   "outputs": [],
   "source": [
    "def answer_evaluation(file1 , file2):\n",
    "    mapped1 = wordmapping(file1)\n",
    "    mapped2 = wordmapping(file2)\n",
    "    similarity = round(angle(mapped1 , mapped2),4)\n",
    "    return min(similarity,1)"
   ]
  },
  {
   "cell_type": "code",
   "execution_count": null,
   "metadata": {},
   "outputs": [],
   "source": [
    "answer_evaluation(\"C:/Users/Praneeth/Downloads/rahul1.txt\" , \"C:/Users/Praneeth/Downloads/rahul2.txt\")"
   ]
  }
 ],
 "metadata": {
  "interpreter": {
   "hash": "2be5faf79681da6f2a61fdfdd5405d65d042280f7fba6178067603e3a2925119"
  },
  "kernelspec": {
   "display_name": "Python 3.10.2 64-bit",
   "language": "python",
   "name": "python3"
  },
  "language_info": {
   "codemirror_mode": {
    "name": "ipython",
    "version": 3
   },
   "file_extension": ".py",
   "mimetype": "text/x-python",
   "name": "python",
   "nbconvert_exporter": "python",
   "pygments_lexer": "ipython3",
   "version": "3.10.2"
  },
  "orig_nbformat": 4
 },
 "nbformat": 4,
 "nbformat_minor": 2
}
