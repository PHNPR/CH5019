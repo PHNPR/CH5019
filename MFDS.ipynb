{
 "cells": [
  {
   "cell_type": "code",
   "execution_count": 13,
   "metadata": {},
   "outputs": [],
   "source": [
    "from sklearn.feature_extraction.text import TfidfVectorizer\n",
    "from sklearn.metrics.pairwise import cosine_similarity"
   ]
  },
  {
   "cell_type": "code",
   "execution_count": 14,
   "metadata": {},
   "outputs": [],
   "source": [
    "correct_answer = input()\n",
    "student_answer = input()\n",
    "answers = [correct_answer , student_answer]"
   ]
  },
  {
   "cell_type": "code",
   "execution_count": 15,
   "metadata": {},
   "outputs": [],
   "source": [
    "def process_tfidf_similarity():\n",
    "    \n",
    "\tvectorizer = TfidfVectorizer()\n",
    "\n",
    "\tembeddings = vectorizer.fit_transform(answers)\n",
    "\n",
    "\tcosine_similarities = cosine_similarity(embeddings[0],embeddings[1]).flatten()\n",
    "\n",
    "\tprint(cosine_similarities * 100)"
   ]
  },
  {
   "cell_type": "code",
   "execution_count": 16,
   "metadata": {},
   "outputs": [
    {
     "name": "stdout",
     "output_type": "stream",
     "text": [
      "[0.]\n"
     ]
    }
   ],
   "source": [
    "process_tfidf_similarity()"
   ]
  }
 ],
 "metadata": {
  "interpreter": {
   "hash": "2a8ac66c3cb2fdf5b0408f74508178d25a0e97c484f20772af398418368bccb6"
  },
  "kernelspec": {
   "display_name": "Python 3.10.4 64-bit",
   "language": "python",
   "name": "python3"
  },
  "language_info": {
   "codemirror_mode": {
    "name": "ipython",
    "version": 3
   },
   "file_extension": ".py",
   "mimetype": "text/x-python",
   "name": "python",
   "nbconvert_exporter": "python",
   "pygments_lexer": "ipython3",
   "version": "3.10.4"
  },
  "orig_nbformat": 4
 },
 "nbformat": 4,
 "nbformat_minor": 2
}
